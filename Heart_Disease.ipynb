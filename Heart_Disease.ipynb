{
  "nbformat": 4,
  "nbformat_minor": 0,
  "metadata": {
    "colab": {
      "name": "Heart_Disease.ipynb",
      "provenance": [],
      "collapsed_sections": []
    },
    "kernelspec": {
      "name": "python3",
      "display_name": "Python 3"
    },
    "language_info": {
      "name": "python"
    }
  },
  "cells": [
    {
      "cell_type": "code",
      "execution_count": 81,
      "metadata": {
        "id": "JjUM-Kqg8STd"
      },
      "outputs": [],
      "source": [
        "import pandas as pd\n",
        "import numpy as np\n",
        "import matplotlib.pyplot as plt\n",
        "import seaborn as sn\n",
        "from sklearn.model_selection import train_test_split\n",
        "from sklearn.preprocessing import StandardScaler"
      ]
    },
    {
      "cell_type": "code",
      "source": [
        "df = pd.read_csv(r'/content/drive/MyDrive/heart.csv')\n",
        "df"
      ],
      "metadata": {
        "colab": {
          "base_uri": "https://localhost:8080/",
          "height": 423
        },
        "id": "5aJRlDOk8aX2",
        "outputId": "b1b7cacb-3c98-4374-d4e7-b46c1485f780"
      },
      "execution_count": 82,
      "outputs": [
        {
          "output_type": "execute_result",
          "data": {
            "text/html": [
              "<div>\n",
              "<style scoped>\n",
              "    .dataframe tbody tr th:only-of-type {\n",
              "        vertical-align: middle;\n",
              "    }\n",
              "\n",
              "    .dataframe tbody tr th {\n",
              "        vertical-align: top;\n",
              "    }\n",
              "\n",
              "    .dataframe thead th {\n",
              "        text-align: right;\n",
              "    }\n",
              "</style>\n",
              "<table border=\"1\" class=\"dataframe\">\n",
              "  <thead>\n",
              "    <tr style=\"text-align: right;\">\n",
              "      <th></th>\n",
              "      <th>age</th>\n",
              "      <th>sex</th>\n",
              "      <th>cp</th>\n",
              "      <th>trestbps</th>\n",
              "      <th>chol</th>\n",
              "      <th>fbs</th>\n",
              "      <th>restecg</th>\n",
              "      <th>thalach</th>\n",
              "      <th>exang</th>\n",
              "      <th>oldpeak</th>\n",
              "      <th>slope</th>\n",
              "      <th>ca</th>\n",
              "      <th>thal</th>\n",
              "      <th>target</th>\n",
              "    </tr>\n",
              "  </thead>\n",
              "  <tbody>\n",
              "    <tr>\n",
              "      <th>0</th>\n",
              "      <td>63</td>\n",
              "      <td>1</td>\n",
              "      <td>3</td>\n",
              "      <td>145</td>\n",
              "      <td>233</td>\n",
              "      <td>1</td>\n",
              "      <td>0</td>\n",
              "      <td>150</td>\n",
              "      <td>0</td>\n",
              "      <td>2.3</td>\n",
              "      <td>0</td>\n",
              "      <td>0</td>\n",
              "      <td>1</td>\n",
              "      <td>1</td>\n",
              "    </tr>\n",
              "    <tr>\n",
              "      <th>1</th>\n",
              "      <td>37</td>\n",
              "      <td>1</td>\n",
              "      <td>2</td>\n",
              "      <td>130</td>\n",
              "      <td>250</td>\n",
              "      <td>0</td>\n",
              "      <td>1</td>\n",
              "      <td>187</td>\n",
              "      <td>0</td>\n",
              "      <td>3.5</td>\n",
              "      <td>0</td>\n",
              "      <td>0</td>\n",
              "      <td>2</td>\n",
              "      <td>1</td>\n",
              "    </tr>\n",
              "    <tr>\n",
              "      <th>2</th>\n",
              "      <td>41</td>\n",
              "      <td>0</td>\n",
              "      <td>1</td>\n",
              "      <td>130</td>\n",
              "      <td>204</td>\n",
              "      <td>0</td>\n",
              "      <td>0</td>\n",
              "      <td>172</td>\n",
              "      <td>0</td>\n",
              "      <td>1.4</td>\n",
              "      <td>2</td>\n",
              "      <td>0</td>\n",
              "      <td>2</td>\n",
              "      <td>1</td>\n",
              "    </tr>\n",
              "    <tr>\n",
              "      <th>3</th>\n",
              "      <td>56</td>\n",
              "      <td>1</td>\n",
              "      <td>1</td>\n",
              "      <td>120</td>\n",
              "      <td>236</td>\n",
              "      <td>0</td>\n",
              "      <td>1</td>\n",
              "      <td>178</td>\n",
              "      <td>0</td>\n",
              "      <td>0.8</td>\n",
              "      <td>2</td>\n",
              "      <td>0</td>\n",
              "      <td>2</td>\n",
              "      <td>1</td>\n",
              "    </tr>\n",
              "    <tr>\n",
              "      <th>4</th>\n",
              "      <td>57</td>\n",
              "      <td>0</td>\n",
              "      <td>0</td>\n",
              "      <td>120</td>\n",
              "      <td>354</td>\n",
              "      <td>0</td>\n",
              "      <td>1</td>\n",
              "      <td>163</td>\n",
              "      <td>1</td>\n",
              "      <td>0.6</td>\n",
              "      <td>2</td>\n",
              "      <td>0</td>\n",
              "      <td>2</td>\n",
              "      <td>1</td>\n",
              "    </tr>\n",
              "    <tr>\n",
              "      <th>...</th>\n",
              "      <td>...</td>\n",
              "      <td>...</td>\n",
              "      <td>...</td>\n",
              "      <td>...</td>\n",
              "      <td>...</td>\n",
              "      <td>...</td>\n",
              "      <td>...</td>\n",
              "      <td>...</td>\n",
              "      <td>...</td>\n",
              "      <td>...</td>\n",
              "      <td>...</td>\n",
              "      <td>...</td>\n",
              "      <td>...</td>\n",
              "      <td>...</td>\n",
              "    </tr>\n",
              "    <tr>\n",
              "      <th>298</th>\n",
              "      <td>57</td>\n",
              "      <td>0</td>\n",
              "      <td>0</td>\n",
              "      <td>140</td>\n",
              "      <td>241</td>\n",
              "      <td>0</td>\n",
              "      <td>1</td>\n",
              "      <td>123</td>\n",
              "      <td>1</td>\n",
              "      <td>0.2</td>\n",
              "      <td>1</td>\n",
              "      <td>0</td>\n",
              "      <td>3</td>\n",
              "      <td>0</td>\n",
              "    </tr>\n",
              "    <tr>\n",
              "      <th>299</th>\n",
              "      <td>45</td>\n",
              "      <td>1</td>\n",
              "      <td>3</td>\n",
              "      <td>110</td>\n",
              "      <td>264</td>\n",
              "      <td>0</td>\n",
              "      <td>1</td>\n",
              "      <td>132</td>\n",
              "      <td>0</td>\n",
              "      <td>1.2</td>\n",
              "      <td>1</td>\n",
              "      <td>0</td>\n",
              "      <td>3</td>\n",
              "      <td>0</td>\n",
              "    </tr>\n",
              "    <tr>\n",
              "      <th>300</th>\n",
              "      <td>68</td>\n",
              "      <td>1</td>\n",
              "      <td>0</td>\n",
              "      <td>144</td>\n",
              "      <td>193</td>\n",
              "      <td>1</td>\n",
              "      <td>1</td>\n",
              "      <td>141</td>\n",
              "      <td>0</td>\n",
              "      <td>3.4</td>\n",
              "      <td>1</td>\n",
              "      <td>2</td>\n",
              "      <td>3</td>\n",
              "      <td>0</td>\n",
              "    </tr>\n",
              "    <tr>\n",
              "      <th>301</th>\n",
              "      <td>57</td>\n",
              "      <td>1</td>\n",
              "      <td>0</td>\n",
              "      <td>130</td>\n",
              "      <td>131</td>\n",
              "      <td>0</td>\n",
              "      <td>1</td>\n",
              "      <td>115</td>\n",
              "      <td>1</td>\n",
              "      <td>1.2</td>\n",
              "      <td>1</td>\n",
              "      <td>1</td>\n",
              "      <td>3</td>\n",
              "      <td>0</td>\n",
              "    </tr>\n",
              "    <tr>\n",
              "      <th>302</th>\n",
              "      <td>57</td>\n",
              "      <td>0</td>\n",
              "      <td>1</td>\n",
              "      <td>130</td>\n",
              "      <td>236</td>\n",
              "      <td>0</td>\n",
              "      <td>0</td>\n",
              "      <td>174</td>\n",
              "      <td>0</td>\n",
              "      <td>0.0</td>\n",
              "      <td>1</td>\n",
              "      <td>1</td>\n",
              "      <td>2</td>\n",
              "      <td>0</td>\n",
              "    </tr>\n",
              "  </tbody>\n",
              "</table>\n",
              "<p>303 rows × 14 columns</p>\n",
              "</div>"
            ],
            "text/plain": [
              "     age  sex  cp  trestbps  chol  fbs  ...  exang  oldpeak  slope  ca  thal  target\n",
              "0     63    1   3       145   233    1  ...      0      2.3      0   0     1       1\n",
              "1     37    1   2       130   250    0  ...      0      3.5      0   0     2       1\n",
              "2     41    0   1       130   204    0  ...      0      1.4      2   0     2       1\n",
              "3     56    1   1       120   236    0  ...      0      0.8      2   0     2       1\n",
              "4     57    0   0       120   354    0  ...      1      0.6      2   0     2       1\n",
              "..   ...  ...  ..       ...   ...  ...  ...    ...      ...    ...  ..   ...     ...\n",
              "298   57    0   0       140   241    0  ...      1      0.2      1   0     3       0\n",
              "299   45    1   3       110   264    0  ...      0      1.2      1   0     3       0\n",
              "300   68    1   0       144   193    1  ...      0      3.4      1   2     3       0\n",
              "301   57    1   0       130   131    0  ...      1      1.2      1   1     3       0\n",
              "302   57    0   1       130   236    0  ...      0      0.0      1   1     2       0\n",
              "\n",
              "[303 rows x 14 columns]"
            ]
          },
          "metadata": {},
          "execution_count": 82
        }
      ]
    },
    {
      "cell_type": "code",
      "source": [
        "df.head()"
      ],
      "metadata": {
        "colab": {
          "base_uri": "https://localhost:8080/",
          "height": 206
        },
        "id": "xMUqfe2n8dHH",
        "outputId": "59b6f8a0-10fc-44b7-b305-af81cd78e3c2"
      },
      "execution_count": 83,
      "outputs": [
        {
          "output_type": "execute_result",
          "data": {
            "text/html": [
              "<div>\n",
              "<style scoped>\n",
              "    .dataframe tbody tr th:only-of-type {\n",
              "        vertical-align: middle;\n",
              "    }\n",
              "\n",
              "    .dataframe tbody tr th {\n",
              "        vertical-align: top;\n",
              "    }\n",
              "\n",
              "    .dataframe thead th {\n",
              "        text-align: right;\n",
              "    }\n",
              "</style>\n",
              "<table border=\"1\" class=\"dataframe\">\n",
              "  <thead>\n",
              "    <tr style=\"text-align: right;\">\n",
              "      <th></th>\n",
              "      <th>age</th>\n",
              "      <th>sex</th>\n",
              "      <th>cp</th>\n",
              "      <th>trestbps</th>\n",
              "      <th>chol</th>\n",
              "      <th>fbs</th>\n",
              "      <th>restecg</th>\n",
              "      <th>thalach</th>\n",
              "      <th>exang</th>\n",
              "      <th>oldpeak</th>\n",
              "      <th>slope</th>\n",
              "      <th>ca</th>\n",
              "      <th>thal</th>\n",
              "      <th>target</th>\n",
              "    </tr>\n",
              "  </thead>\n",
              "  <tbody>\n",
              "    <tr>\n",
              "      <th>0</th>\n",
              "      <td>63</td>\n",
              "      <td>1</td>\n",
              "      <td>3</td>\n",
              "      <td>145</td>\n",
              "      <td>233</td>\n",
              "      <td>1</td>\n",
              "      <td>0</td>\n",
              "      <td>150</td>\n",
              "      <td>0</td>\n",
              "      <td>2.3</td>\n",
              "      <td>0</td>\n",
              "      <td>0</td>\n",
              "      <td>1</td>\n",
              "      <td>1</td>\n",
              "    </tr>\n",
              "    <tr>\n",
              "      <th>1</th>\n",
              "      <td>37</td>\n",
              "      <td>1</td>\n",
              "      <td>2</td>\n",
              "      <td>130</td>\n",
              "      <td>250</td>\n",
              "      <td>0</td>\n",
              "      <td>1</td>\n",
              "      <td>187</td>\n",
              "      <td>0</td>\n",
              "      <td>3.5</td>\n",
              "      <td>0</td>\n",
              "      <td>0</td>\n",
              "      <td>2</td>\n",
              "      <td>1</td>\n",
              "    </tr>\n",
              "    <tr>\n",
              "      <th>2</th>\n",
              "      <td>41</td>\n",
              "      <td>0</td>\n",
              "      <td>1</td>\n",
              "      <td>130</td>\n",
              "      <td>204</td>\n",
              "      <td>0</td>\n",
              "      <td>0</td>\n",
              "      <td>172</td>\n",
              "      <td>0</td>\n",
              "      <td>1.4</td>\n",
              "      <td>2</td>\n",
              "      <td>0</td>\n",
              "      <td>2</td>\n",
              "      <td>1</td>\n",
              "    </tr>\n",
              "    <tr>\n",
              "      <th>3</th>\n",
              "      <td>56</td>\n",
              "      <td>1</td>\n",
              "      <td>1</td>\n",
              "      <td>120</td>\n",
              "      <td>236</td>\n",
              "      <td>0</td>\n",
              "      <td>1</td>\n",
              "      <td>178</td>\n",
              "      <td>0</td>\n",
              "      <td>0.8</td>\n",
              "      <td>2</td>\n",
              "      <td>0</td>\n",
              "      <td>2</td>\n",
              "      <td>1</td>\n",
              "    </tr>\n",
              "    <tr>\n",
              "      <th>4</th>\n",
              "      <td>57</td>\n",
              "      <td>0</td>\n",
              "      <td>0</td>\n",
              "      <td>120</td>\n",
              "      <td>354</td>\n",
              "      <td>0</td>\n",
              "      <td>1</td>\n",
              "      <td>163</td>\n",
              "      <td>1</td>\n",
              "      <td>0.6</td>\n",
              "      <td>2</td>\n",
              "      <td>0</td>\n",
              "      <td>2</td>\n",
              "      <td>1</td>\n",
              "    </tr>\n",
              "  </tbody>\n",
              "</table>\n",
              "</div>"
            ],
            "text/plain": [
              "   age  sex  cp  trestbps  chol  fbs  ...  exang  oldpeak  slope  ca  thal  target\n",
              "0   63    1   3       145   233    1  ...      0      2.3      0   0     1       1\n",
              "1   37    1   2       130   250    0  ...      0      3.5      0   0     2       1\n",
              "2   41    0   1       130   204    0  ...      0      1.4      2   0     2       1\n",
              "3   56    1   1       120   236    0  ...      0      0.8      2   0     2       1\n",
              "4   57    0   0       120   354    0  ...      1      0.6      2   0     2       1\n",
              "\n",
              "[5 rows x 14 columns]"
            ]
          },
          "metadata": {},
          "execution_count": 83
        }
      ]
    },
    {
      "cell_type": "code",
      "source": [
        "df.describe()"
      ],
      "metadata": {
        "colab": {
          "base_uri": "https://localhost:8080/",
          "height": 300
        },
        "id": "OObZwpGz8dP-",
        "outputId": "f81acc81-9f8a-495e-af8c-eadd0aa54272"
      },
      "execution_count": 84,
      "outputs": [
        {
          "output_type": "execute_result",
          "data": {
            "text/html": [
              "<div>\n",
              "<style scoped>\n",
              "    .dataframe tbody tr th:only-of-type {\n",
              "        vertical-align: middle;\n",
              "    }\n",
              "\n",
              "    .dataframe tbody tr th {\n",
              "        vertical-align: top;\n",
              "    }\n",
              "\n",
              "    .dataframe thead th {\n",
              "        text-align: right;\n",
              "    }\n",
              "</style>\n",
              "<table border=\"1\" class=\"dataframe\">\n",
              "  <thead>\n",
              "    <tr style=\"text-align: right;\">\n",
              "      <th></th>\n",
              "      <th>age</th>\n",
              "      <th>sex</th>\n",
              "      <th>cp</th>\n",
              "      <th>trestbps</th>\n",
              "      <th>chol</th>\n",
              "      <th>fbs</th>\n",
              "      <th>restecg</th>\n",
              "      <th>thalach</th>\n",
              "      <th>exang</th>\n",
              "      <th>oldpeak</th>\n",
              "      <th>slope</th>\n",
              "      <th>ca</th>\n",
              "      <th>thal</th>\n",
              "      <th>target</th>\n",
              "    </tr>\n",
              "  </thead>\n",
              "  <tbody>\n",
              "    <tr>\n",
              "      <th>count</th>\n",
              "      <td>303.000000</td>\n",
              "      <td>303.000000</td>\n",
              "      <td>303.000000</td>\n",
              "      <td>303.000000</td>\n",
              "      <td>303.000000</td>\n",
              "      <td>303.000000</td>\n",
              "      <td>303.000000</td>\n",
              "      <td>303.000000</td>\n",
              "      <td>303.000000</td>\n",
              "      <td>303.000000</td>\n",
              "      <td>303.000000</td>\n",
              "      <td>303.000000</td>\n",
              "      <td>303.000000</td>\n",
              "      <td>303.000000</td>\n",
              "    </tr>\n",
              "    <tr>\n",
              "      <th>mean</th>\n",
              "      <td>54.366337</td>\n",
              "      <td>0.683168</td>\n",
              "      <td>0.966997</td>\n",
              "      <td>131.623762</td>\n",
              "      <td>246.264026</td>\n",
              "      <td>0.148515</td>\n",
              "      <td>0.528053</td>\n",
              "      <td>149.646865</td>\n",
              "      <td>0.326733</td>\n",
              "      <td>1.039604</td>\n",
              "      <td>1.399340</td>\n",
              "      <td>0.729373</td>\n",
              "      <td>2.313531</td>\n",
              "      <td>0.544554</td>\n",
              "    </tr>\n",
              "    <tr>\n",
              "      <th>std</th>\n",
              "      <td>9.082101</td>\n",
              "      <td>0.466011</td>\n",
              "      <td>1.032052</td>\n",
              "      <td>17.538143</td>\n",
              "      <td>51.830751</td>\n",
              "      <td>0.356198</td>\n",
              "      <td>0.525860</td>\n",
              "      <td>22.905161</td>\n",
              "      <td>0.469794</td>\n",
              "      <td>1.161075</td>\n",
              "      <td>0.616226</td>\n",
              "      <td>1.022606</td>\n",
              "      <td>0.612277</td>\n",
              "      <td>0.498835</td>\n",
              "    </tr>\n",
              "    <tr>\n",
              "      <th>min</th>\n",
              "      <td>29.000000</td>\n",
              "      <td>0.000000</td>\n",
              "      <td>0.000000</td>\n",
              "      <td>94.000000</td>\n",
              "      <td>126.000000</td>\n",
              "      <td>0.000000</td>\n",
              "      <td>0.000000</td>\n",
              "      <td>71.000000</td>\n",
              "      <td>0.000000</td>\n",
              "      <td>0.000000</td>\n",
              "      <td>0.000000</td>\n",
              "      <td>0.000000</td>\n",
              "      <td>0.000000</td>\n",
              "      <td>0.000000</td>\n",
              "    </tr>\n",
              "    <tr>\n",
              "      <th>25%</th>\n",
              "      <td>47.500000</td>\n",
              "      <td>0.000000</td>\n",
              "      <td>0.000000</td>\n",
              "      <td>120.000000</td>\n",
              "      <td>211.000000</td>\n",
              "      <td>0.000000</td>\n",
              "      <td>0.000000</td>\n",
              "      <td>133.500000</td>\n",
              "      <td>0.000000</td>\n",
              "      <td>0.000000</td>\n",
              "      <td>1.000000</td>\n",
              "      <td>0.000000</td>\n",
              "      <td>2.000000</td>\n",
              "      <td>0.000000</td>\n",
              "    </tr>\n",
              "    <tr>\n",
              "      <th>50%</th>\n",
              "      <td>55.000000</td>\n",
              "      <td>1.000000</td>\n",
              "      <td>1.000000</td>\n",
              "      <td>130.000000</td>\n",
              "      <td>240.000000</td>\n",
              "      <td>0.000000</td>\n",
              "      <td>1.000000</td>\n",
              "      <td>153.000000</td>\n",
              "      <td>0.000000</td>\n",
              "      <td>0.800000</td>\n",
              "      <td>1.000000</td>\n",
              "      <td>0.000000</td>\n",
              "      <td>2.000000</td>\n",
              "      <td>1.000000</td>\n",
              "    </tr>\n",
              "    <tr>\n",
              "      <th>75%</th>\n",
              "      <td>61.000000</td>\n",
              "      <td>1.000000</td>\n",
              "      <td>2.000000</td>\n",
              "      <td>140.000000</td>\n",
              "      <td>274.500000</td>\n",
              "      <td>0.000000</td>\n",
              "      <td>1.000000</td>\n",
              "      <td>166.000000</td>\n",
              "      <td>1.000000</td>\n",
              "      <td>1.600000</td>\n",
              "      <td>2.000000</td>\n",
              "      <td>1.000000</td>\n",
              "      <td>3.000000</td>\n",
              "      <td>1.000000</td>\n",
              "    </tr>\n",
              "    <tr>\n",
              "      <th>max</th>\n",
              "      <td>77.000000</td>\n",
              "      <td>1.000000</td>\n",
              "      <td>3.000000</td>\n",
              "      <td>200.000000</td>\n",
              "      <td>564.000000</td>\n",
              "      <td>1.000000</td>\n",
              "      <td>2.000000</td>\n",
              "      <td>202.000000</td>\n",
              "      <td>1.000000</td>\n",
              "      <td>6.200000</td>\n",
              "      <td>2.000000</td>\n",
              "      <td>4.000000</td>\n",
              "      <td>3.000000</td>\n",
              "      <td>1.000000</td>\n",
              "    </tr>\n",
              "  </tbody>\n",
              "</table>\n",
              "</div>"
            ],
            "text/plain": [
              "              age         sex          cp  ...          ca        thal      target\n",
              "count  303.000000  303.000000  303.000000  ...  303.000000  303.000000  303.000000\n",
              "mean    54.366337    0.683168    0.966997  ...    0.729373    2.313531    0.544554\n",
              "std      9.082101    0.466011    1.032052  ...    1.022606    0.612277    0.498835\n",
              "min     29.000000    0.000000    0.000000  ...    0.000000    0.000000    0.000000\n",
              "25%     47.500000    0.000000    0.000000  ...    0.000000    2.000000    0.000000\n",
              "50%     55.000000    1.000000    1.000000  ...    0.000000    2.000000    1.000000\n",
              "75%     61.000000    1.000000    2.000000  ...    1.000000    3.000000    1.000000\n",
              "max     77.000000    1.000000    3.000000  ...    4.000000    3.000000    1.000000\n",
              "\n",
              "[8 rows x 14 columns]"
            ]
          },
          "metadata": {},
          "execution_count": 84
        }
      ]
    },
    {
      "cell_type": "code",
      "source": [
        "df.info()"
      ],
      "metadata": {
        "colab": {
          "base_uri": "https://localhost:8080/"
        },
        "id": "nLaOEA5F8dS-",
        "outputId": "6747f877-0cb9-49a1-c50b-15092cdbbcf6"
      },
      "execution_count": 85,
      "outputs": [
        {
          "output_type": "stream",
          "name": "stdout",
          "text": [
            "<class 'pandas.core.frame.DataFrame'>\n",
            "RangeIndex: 303 entries, 0 to 302\n",
            "Data columns (total 14 columns):\n",
            " #   Column    Non-Null Count  Dtype  \n",
            "---  ------    --------------  -----  \n",
            " 0   age       303 non-null    int64  \n",
            " 1   sex       303 non-null    int64  \n",
            " 2   cp        303 non-null    int64  \n",
            " 3   trestbps  303 non-null    int64  \n",
            " 4   chol      303 non-null    int64  \n",
            " 5   fbs       303 non-null    int64  \n",
            " 6   restecg   303 non-null    int64  \n",
            " 7   thalach   303 non-null    int64  \n",
            " 8   exang     303 non-null    int64  \n",
            " 9   oldpeak   303 non-null    float64\n",
            " 10  slope     303 non-null    int64  \n",
            " 11  ca        303 non-null    int64  \n",
            " 12  thal      303 non-null    int64  \n",
            " 13  target    303 non-null    int64  \n",
            "dtypes: float64(1), int64(13)\n",
            "memory usage: 33.3 KB\n"
          ]
        }
      ]
    },
    {
      "cell_type": "code",
      "source": [
        "df['target'].value_counts()"
      ],
      "metadata": {
        "colab": {
          "base_uri": "https://localhost:8080/"
        },
        "id": "9koZG-dX8dVd",
        "outputId": "7c3646cd-dc7c-4204-a935-7e222209810b"
      },
      "execution_count": 86,
      "outputs": [
        {
          "output_type": "execute_result",
          "data": {
            "text/plain": [
              "1    165\n",
              "0    138\n",
              "Name: target, dtype: int64"
            ]
          },
          "metadata": {},
          "execution_count": 86
        }
      ]
    },
    {
      "cell_type": "code",
      "source": [
        "df.dtypes"
      ],
      "metadata": {
        "colab": {
          "base_uri": "https://localhost:8080/"
        },
        "id": "pIRzWS1k8dYt",
        "outputId": "e3d7d964-fda7-4c7a-f058-4273f60a14c4"
      },
      "execution_count": 87,
      "outputs": [
        {
          "output_type": "execute_result",
          "data": {
            "text/plain": [
              "age           int64\n",
              "sex           int64\n",
              "cp            int64\n",
              "trestbps      int64\n",
              "chol          int64\n",
              "fbs           int64\n",
              "restecg       int64\n",
              "thalach       int64\n",
              "exang         int64\n",
              "oldpeak     float64\n",
              "slope         int64\n",
              "ca            int64\n",
              "thal          int64\n",
              "target        int64\n",
              "dtype: object"
            ]
          },
          "metadata": {},
          "execution_count": 87
        }
      ]
    },
    {
      "cell_type": "code",
      "source": [
        "df['chol'] = df['chol']/df['chol'].max()\n",
        "df['chol'].head()"
      ],
      "metadata": {
        "colab": {
          "base_uri": "https://localhost:8080/"
        },
        "id": "Y6iSCgwb8dbh",
        "outputId": "991e394e-ba0e-4793-9f3c-acc2e65ee127"
      },
      "execution_count": 88,
      "outputs": [
        {
          "output_type": "execute_result",
          "data": {
            "text/plain": [
              "0    0.413121\n",
              "1    0.443262\n",
              "2    0.361702\n",
              "3    0.418440\n",
              "4    0.627660\n",
              "Name: chol, dtype: float64"
            ]
          },
          "metadata": {},
          "execution_count": 88
        }
      ]
    },
    {
      "cell_type": "code",
      "source": [
        "df['trestbps']=df['trestbps']/df['trestbps'].max()\n",
        "df['trestbps'].head()"
      ],
      "metadata": {
        "colab": {
          "base_uri": "https://localhost:8080/"
        },
        "id": "xar_Fb188deM",
        "outputId": "890102de-7654-4903-bd65-e60980221b7c"
      },
      "execution_count": 89,
      "outputs": [
        {
          "output_type": "execute_result",
          "data": {
            "text/plain": [
              "0    0.725\n",
              "1    0.650\n",
              "2    0.650\n",
              "3    0.600\n",
              "4    0.600\n",
              "Name: trestbps, dtype: float64"
            ]
          },
          "metadata": {},
          "execution_count": 89
        }
      ]
    },
    {
      "cell_type": "code",
      "source": [
        "df.head()"
      ],
      "metadata": {
        "colab": {
          "base_uri": "https://localhost:8080/",
          "height": 206
        },
        "id": "4hTP2KFm8dhb",
        "outputId": "6b153551-439f-41eb-f700-ed130929e2b5"
      },
      "execution_count": 90,
      "outputs": [
        {
          "output_type": "execute_result",
          "data": {
            "text/html": [
              "<div>\n",
              "<style scoped>\n",
              "    .dataframe tbody tr th:only-of-type {\n",
              "        vertical-align: middle;\n",
              "    }\n",
              "\n",
              "    .dataframe tbody tr th {\n",
              "        vertical-align: top;\n",
              "    }\n",
              "\n",
              "    .dataframe thead th {\n",
              "        text-align: right;\n",
              "    }\n",
              "</style>\n",
              "<table border=\"1\" class=\"dataframe\">\n",
              "  <thead>\n",
              "    <tr style=\"text-align: right;\">\n",
              "      <th></th>\n",
              "      <th>age</th>\n",
              "      <th>sex</th>\n",
              "      <th>cp</th>\n",
              "      <th>trestbps</th>\n",
              "      <th>chol</th>\n",
              "      <th>fbs</th>\n",
              "      <th>restecg</th>\n",
              "      <th>thalach</th>\n",
              "      <th>exang</th>\n",
              "      <th>oldpeak</th>\n",
              "      <th>slope</th>\n",
              "      <th>ca</th>\n",
              "      <th>thal</th>\n",
              "      <th>target</th>\n",
              "    </tr>\n",
              "  </thead>\n",
              "  <tbody>\n",
              "    <tr>\n",
              "      <th>0</th>\n",
              "      <td>63</td>\n",
              "      <td>1</td>\n",
              "      <td>3</td>\n",
              "      <td>0.725</td>\n",
              "      <td>0.413121</td>\n",
              "      <td>1</td>\n",
              "      <td>0</td>\n",
              "      <td>150</td>\n",
              "      <td>0</td>\n",
              "      <td>2.3</td>\n",
              "      <td>0</td>\n",
              "      <td>0</td>\n",
              "      <td>1</td>\n",
              "      <td>1</td>\n",
              "    </tr>\n",
              "    <tr>\n",
              "      <th>1</th>\n",
              "      <td>37</td>\n",
              "      <td>1</td>\n",
              "      <td>2</td>\n",
              "      <td>0.650</td>\n",
              "      <td>0.443262</td>\n",
              "      <td>0</td>\n",
              "      <td>1</td>\n",
              "      <td>187</td>\n",
              "      <td>0</td>\n",
              "      <td>3.5</td>\n",
              "      <td>0</td>\n",
              "      <td>0</td>\n",
              "      <td>2</td>\n",
              "      <td>1</td>\n",
              "    </tr>\n",
              "    <tr>\n",
              "      <th>2</th>\n",
              "      <td>41</td>\n",
              "      <td>0</td>\n",
              "      <td>1</td>\n",
              "      <td>0.650</td>\n",
              "      <td>0.361702</td>\n",
              "      <td>0</td>\n",
              "      <td>0</td>\n",
              "      <td>172</td>\n",
              "      <td>0</td>\n",
              "      <td>1.4</td>\n",
              "      <td>2</td>\n",
              "      <td>0</td>\n",
              "      <td>2</td>\n",
              "      <td>1</td>\n",
              "    </tr>\n",
              "    <tr>\n",
              "      <th>3</th>\n",
              "      <td>56</td>\n",
              "      <td>1</td>\n",
              "      <td>1</td>\n",
              "      <td>0.600</td>\n",
              "      <td>0.418440</td>\n",
              "      <td>0</td>\n",
              "      <td>1</td>\n",
              "      <td>178</td>\n",
              "      <td>0</td>\n",
              "      <td>0.8</td>\n",
              "      <td>2</td>\n",
              "      <td>0</td>\n",
              "      <td>2</td>\n",
              "      <td>1</td>\n",
              "    </tr>\n",
              "    <tr>\n",
              "      <th>4</th>\n",
              "      <td>57</td>\n",
              "      <td>0</td>\n",
              "      <td>0</td>\n",
              "      <td>0.600</td>\n",
              "      <td>0.627660</td>\n",
              "      <td>0</td>\n",
              "      <td>1</td>\n",
              "      <td>163</td>\n",
              "      <td>1</td>\n",
              "      <td>0.6</td>\n",
              "      <td>2</td>\n",
              "      <td>0</td>\n",
              "      <td>2</td>\n",
              "      <td>1</td>\n",
              "    </tr>\n",
              "  </tbody>\n",
              "</table>\n",
              "</div>"
            ],
            "text/plain": [
              "   age  sex  cp  trestbps      chol  ...  oldpeak  slope  ca  thal  target\n",
              "0   63    1   3     0.725  0.413121  ...      2.3      0   0     1       1\n",
              "1   37    1   2     0.650  0.443262  ...      3.5      0   0     2       1\n",
              "2   41    0   1     0.650  0.361702  ...      1.4      2   0     2       1\n",
              "3   56    1   1     0.600  0.418440  ...      0.8      2   0     2       1\n",
              "4   57    0   0     0.600  0.627660  ...      0.6      2   0     2       1\n",
              "\n",
              "[5 rows x 14 columns]"
            ]
          },
          "metadata": {},
          "execution_count": 90
        }
      ]
    },
    {
      "cell_type": "code",
      "source": [
        "df.age.plot(kind = 'hist', bins = 100, figsize = (8,8))\n",
        "plt.xlabel('Age')\n",
        "plt.show()"
      ],
      "metadata": {
        "colab": {
          "base_uri": "https://localhost:8080/",
          "height": 497
        },
        "id": "BdTbCx43_lbe",
        "outputId": "343801f4-f097-4528-c648-3a6de0729e69"
      },
      "execution_count": 91,
      "outputs": [
        {
          "output_type": "display_data",
          "data": {
            "image/png": "[encoded data removed]",
            "text/plain": [
              "<Figure size 576x576 with 1 Axes>"
            ]
          },
          "metadata": {
            "needs_background": "light"
          }
        }
      ]
    },
    {
      "cell_type": "code",
      "source": [
        "sn.countplot(df['target'], palette = 'pastel')"
      ],
      "metadata": {
        "colab": {
          "base_uri": "https://localhost:8080/",
          "height": 569
        },
        "id": "Zj-4BcY1_qTR",
        "outputId": "998030ff-897e-4108-dbe6-3400ab249857"
      },
      "execution_count": 92,
      "outputs": [
        {
          "output_type": "stream",
          "name": "stderr",
          "text": [
            "/usr/local/lib/python3.7/dist-packages/seaborn/_decorators.py:43: FutureWarning: Pass the following variable as a keyword arg: x. From version 0.12, the only valid positional argument will be `data`, and passing other arguments without an explicit keyword will result in an error or misinterpretation.\n",
            "  FutureWarning\n"
          ]
        },
        {
          "output_type": "execute_result",
          "data": {
            "text/plain": [
              "<matplotlib.axes._subplots.AxesSubplot at 0x7f14913536d0>"
            ]
          },
          "metadata": {},
          "execution_count": 92
        },
        {
          "output_type": "display_data",
          "data": {
            "image/png": "[encoded data removed]",
            "text/plain": [
              "<Figure size 576x576 with 1 Axes>"
            ]
          },
          "metadata": {
            "needs_background": "light"
          }
        }
      ]
    },
    {
      "cell_type": "code",
      "source": [
        "df['sex'].value_counts()"
      ],
      "metadata": {
        "colab": {
          "base_uri": "https://localhost:8080/"
        },
        "id": "JfEOYKa0BRON",
        "outputId": "cfbc2ec8-f4e3-4965-aad9-94742cdc8345"
      },
      "execution_count": 93,
      "outputs": [
        {
          "output_type": "execute_result",
          "data": {
            "text/plain": [
              "1    207\n",
              "0     96\n",
              "Name: sex, dtype: int64"
            ]
          },
          "metadata": {},
          "execution_count": 93
        }
      ]
    },
    {
      "cell_type": "code",
      "source": [
        "size = [205,97]\n",
        "colors = ['lightblue', 'lightgreen']\n",
        "labels = \"Male\", \"Female\"\n",
        "explode = [0, 0.01]\n",
        "\n",
        "my_circle = plt.Circle((0, 0), 0.4, color = 'white')\n",
        "\n",
        "plt.rcParams['figure.figsize'] = (8,8)\n",
        "plt.pie(size, colors = colors, labels = labels, shadow = True, explode = explode, autopct = '%.2f%%')\n",
        "plt.title('Distribution of Gender', fontsize = 20)\n",
        "p = plt.gcf()\n",
        "p.gca().add_artist(my_circle)\n",
        "plt.legend()\n",
        "plt.show()"
      ],
      "metadata": {
        "colab": {
          "base_uri": "https://localhost:8080/",
          "height": 487
        },
        "id": "m0CZZBiqBRRc",
        "outputId": "e3146d78-f854-41b4-97d2-11421be04ceb"
      },
      "execution_count": 94,
      "outputs": [
        {
          "output_type": "display_data",
          "data": {
            "image/png": "[encoded data removed]",
            "text/plain": [
              "<Figure size 576x576 with 1 Axes>"
            ]
          },
          "metadata": {}
        }
      ]
    },
    {
      "cell_type": "code",
      "source": [
        "X=df.iloc[:, :-1].values\n",
        "X"
      ],
      "metadata": {
        "colab": {
          "base_uri": "https://localhost:8080/"
        },
        "id": "2rlCkk-bBRT4",
        "outputId": "a4e2de61-7f21-4e44-ef8c-df8ec4368639"
      },
      "execution_count": 95,
      "outputs": [
        {
          "output_type": "execute_result",
          "data": {
            "text/plain": [
              "array([[63.,  1.,  3., ...,  0.,  0.,  1.],\n",
              "       [37.,  1.,  2., ...,  0.,  0.,  2.],\n",
              "       [41.,  0.,  1., ...,  2.,  0.,  2.],\n",
              "       ...,\n",
              "       [68.,  1.,  0., ...,  1.,  2.,  3.],\n",
              "       [57.,  1.,  0., ...,  1.,  1.,  3.],\n",
              "       [57.,  0.,  1., ...,  1.,  1.,  2.]])"
            ]
          },
          "metadata": {},
          "execution_count": 95
        }
      ]
    },
    {
      "cell_type": "code",
      "source": [
        "y = df.iloc[:,13]\n",
        "y"
      ],
      "metadata": {
        "colab": {
          "base_uri": "https://localhost:8080/"
        },
        "id": "OleRCpR1BRW-",
        "outputId": "0aac254f-1d88-4dce-e526-15f8e0aee917"
      },
      "execution_count": 96,
      "outputs": [
        {
          "output_type": "execute_result",
          "data": {
            "text/plain": [
              "0      1\n",
              "1      1\n",
              "2      1\n",
              "3      1\n",
              "4      1\n",
              "      ..\n",
              "298    0\n",
              "299    0\n",
              "300    0\n",
              "301    0\n",
              "302    0\n",
              "Name: target, Length: 303, dtype: int64"
            ]
          },
          "metadata": {},
          "execution_count": 96
        }
      ]
    },
    {
      "cell_type": "code",
      "source": [
        "X_train, X_test, y_train, y_test = train_test_split( X, y, test_size=0.2, random_state=0)"
      ],
      "metadata": {
        "id": "Md33-jJFBRaS"
      },
      "execution_count": 97,
      "outputs": []
    },
    {
      "cell_type": "code",
      "source": [
        "sc_X=StandardScaler()\n",
        "X_train=sc_X.fit_transform(X_train)\n",
        "X_test=sc_X.transform(X_test)"
      ],
      "metadata": {
        "id": "sClm_Bn0BRdA"
      },
      "execution_count": 98,
      "outputs": []
    },
    {
      "cell_type": "code",
      "source": [
        "X_train"
      ],
      "metadata": {
        "colab": {
          "base_uri": "https://localhost:8080/"
        },
        "id": "DTojOvouBRfv",
        "outputId": "9c4b370b-9c98-49df-9362-9ca26a3c53db"
      },
      "execution_count": 99,
      "outputs": [
        {
          "output_type": "execute_result",
          "data": {
            "text/plain": [
              "array([[-1.32773282, -1.43641607,  0.98584243, ..., -0.66169316,\n",
              "        -0.70710678, -0.46472917],\n",
              "       [ 1.24903178, -1.43641607,  0.98584243, ..., -0.66169316,\n",
              "         0.26516504, -0.46472917],\n",
              "       [ 0.35276583,  0.69617712,  0.98584243, ...,  0.95577901,\n",
              "        -0.70710678, -0.46472917],\n",
              "       ...,\n",
              "       [ 0.12869935,  0.69617712,  1.94013791, ..., -0.66169316,\n",
              "        -0.70710678,  1.14190596],\n",
              "       [-0.87959984,  0.69617712,  0.98584243, ...,  0.95577901,\n",
              "        -0.70710678, -0.46472917],\n",
              "       [ 0.35276583,  0.69617712,  0.03154696, ..., -0.66169316,\n",
              "        -0.70710678, -0.46472917]])"
            ]
          },
          "metadata": {},
          "execution_count": 99
        }
      ]
    },
    {
      "cell_type": "code",
      "source": [
        "X_test"
      ],
      "metadata": {
        "colab": {
          "base_uri": "https://localhost:8080/"
        },
        "id": "2cFqd-U7D0du",
        "outputId": "962a678f-762d-4d42-c240-2d3962033163"
      },
      "execution_count": 100,
      "outputs": [
        {
          "output_type": "execute_result",
          "data": {
            "text/plain": [
              "array([[ 1.69716475,  0.69617712, -0.92274852,  0.77251645, -1.36354075,\n",
              "        -0.41803981,  0.90163913, -1.07375268,  1.40984195,  1.2900049 ,\n",
              "        -2.27916533, -0.70710678,  1.14190596],\n",
              "       [ 1.02496529,  0.69617712,  1.94013791,  2.23625729, -0.3703119 ,\n",
              "        -0.41803981, -0.97936664,  0.22375805, -0.70929937, -0.38883987,\n",
              "        -0.66169316, -0.70710678,  1.14190596],\n",
              "       [ 0.46479907,  0.69617712,  1.94013791,  2.23625729,  0.7728383 ,\n",
              "        -0.41803981, -0.97936664,  0.39675948, -0.70929937, -0.72460883,\n",
              "        -0.66169316, -0.70710678,  1.14190596],\n",
              "       [ 0.57683232,  0.69617712, -0.92274852, -0.39847623,  0.21063328,\n",
              "        -0.41803981, -0.97936664, -0.38174696,  1.40984195,  1.45788938,\n",
              "        -0.66169316,  0.26516504,  1.14190596],\n",
              "       [ 0.8008988 ,  0.69617712,  0.98584243, -0.10572806, -0.29535123,\n",
              "        -0.41803981,  0.90163913, -0.16549517, -0.70929937,  0.61846699,\n",
              "        -0.66169316,  2.20970869,  1.14190596],\n",
              "       [-0.7675666 ,  0.69617712, -0.92274852, -0.45702586,  0.51047596,\n",
              "        -0.41803981, -0.97936664,  0.69951198, -0.70929937, -0.47278211,\n",
              "        -0.66169316, -0.70710678,  1.14190596],\n",
              "       [-1.66383254,  0.69617712, -0.92274852, -1.27672073, -1.49472192,\n",
              "        -0.41803981, -0.97936664, -1.54950661,  1.40984195,  0.78635147,\n",
              "        -0.66169316, -0.70710678,  1.14190596],\n",
              "       [ 0.91293205,  0.69617712, -0.92274852, -0.10572806,  0.13567261,\n",
              "        -0.41803981, -0.97936664, -0.12224481, -0.70929937,  0.28269804,\n",
              "        -0.66169316,  0.26516504,  1.14190596],\n",
              "       [ 0.12869935, -1.43641607, -0.92274852,  3.9927463 ,  0.7728383 ,\n",
              "         2.39211668, -0.97936664, -0.72774982,  1.40984195,  2.46519624,\n",
              "        -2.27916533,  1.23743687,  1.14190596],\n",
              "       [ 0.91293205,  0.69617712, -0.92274852, -0.10572806,  1.55992532,\n",
              "         2.39211668, -0.97936664, -0.77100017,  1.40984195,  0.61846699,\n",
              "         0.95577901,  2.20970869,  1.14190596],\n",
              "       [ 0.24073259,  0.69617712,  0.98584243,  1.06526461, -2.26306878,\n",
              "         2.39211668,  0.90163913,  1.00226448, -0.70929937, -0.72460883,\n",
              "         0.95577901,  0.26516504,  1.14190596],\n",
              "       [-0.65553336, -1.43641607, -0.92274852, -0.10572806,  0.41677512,\n",
              "        -0.41803981,  0.90163913,  0.56976091, -0.70929937, -0.89249331,\n",
              "         0.95577901, -0.70710678, -0.46472917],\n",
              "       [ 1.13699853,  0.69617712, -0.92274852,  0.18702011,  0.13567261,\n",
              "        -0.41803981, -0.97936664, -0.98725196, -0.70929937,  1.45788938,\n",
              "        -0.66169316,  0.26516504,  1.14190596],\n",
              "       [-0.65553336,  0.69617712,  0.03154696, -0.10572806,  0.36055462,\n",
              "        -0.41803981,  0.90163913,  0.91576377, -0.70929937, -0.38883987,\n",
              "         0.95577901, -0.70710678, -0.46472917],\n",
              "       [-0.54350011, -1.43641607,  0.98584243, -0.69122439, -0.52023323,\n",
              "        -0.41803981,  0.90163913,  0.35350912, -0.70929937,  0.45058251,\n",
              "        -0.66169316, -0.70710678, -0.46472917],\n",
              "       [-0.43146687,  0.69617712,  0.98584243, -1.86221707, -0.46401273,\n",
              "        -0.41803981,  0.90163913, -0.29524624,  1.40984195,  0.11481356,\n",
              "        -0.66169316, -0.70710678, -0.46472917],\n",
              "       [-0.31943363,  0.69617712, -0.92274852, -1.39382   , -0.25787089,\n",
              "         2.39211668,  0.90163913, -0.12224481, -0.70929937, -0.80855107,\n",
              "         0.95577901,  2.20970869,  1.14190596],\n",
              "       [-0.7675666 ,  0.69617712,  0.98584243, -0.45702586,  0.15441278,\n",
              "         2.39211668,  0.90163913,  1.0887652 , -0.70929937, -0.89249331,\n",
              "         0.95577901,  1.23743687, -0.46472917],\n",
              "       [ 0.8008988 ,  0.69617712, -0.92274852, -0.69122439,  0.37929479,\n",
              "        -0.41803981,  0.90163913, -2.19826197,  1.40984195,  0.61846699,\n",
              "        -0.66169316,  1.23743687,  1.14190596],\n",
              "       [-1.43976606,  0.69617712,  0.98584243, -0.69122439, -0.12668972,\n",
              "         2.39211668,  0.90163913,  1.91052199, -0.70929937, -0.2209554 ,\n",
              "        -2.27916533, -0.70710678,  1.14190596],\n",
              "       [-1.43976606,  0.69617712, -0.92274852,  0.47976828, -0.38905206,\n",
              "        -0.41803981,  0.90163913,  1.21851627, -0.70929937, -0.89249331,\n",
              "         0.95577901, -0.70710678, -0.46472917],\n",
              "       [-1.77586579,  0.69617712, -0.92274852, -0.80832366, -0.52023323,\n",
              "        -0.41803981,  0.90163913, -0.42499731, -0.70929937,  0.11481356,\n",
              "        -0.66169316, -0.70710678,  1.14190596],\n",
              "       [ 0.8008988 ,  0.69617712,  0.03154696, -0.69122439,  0.64165713,\n",
              "        -0.41803981, -0.97936664, -2.02526054, -0.70929937,  0.28269804,\n",
              "        -0.66169316,  0.26516504,  1.14190596],\n",
              "       [-0.09536714,  0.69617712, -0.92274852, -1.27672073, -0.76385541,\n",
              "        -0.41803981, -0.97936664, -1.80900875,  1.40984195, -0.89249331,\n",
              "        -0.66169316,  0.26516504, -0.46472917],\n",
              "       [-1.5517993 ,  0.69617712,  0.03154696, -1.27672073, -0.22039056,\n",
              "        -0.41803981,  0.90163913,  0.13725733, -0.70929937, -0.89249331,\n",
              "         0.95577901, -0.70710678, -0.46472917],\n",
              "       [ 0.8008988 , -1.43641607,  0.98584243, -0.10572806,  0.30433412,\n",
              "        -0.41803981,  0.90163913, -2.28476268, -0.70929937,  0.11481356,\n",
              "        -0.66169316,  0.26516504,  1.14190596],\n",
              "       [-0.31943363,  0.69617712, -0.92274852, -0.39847623, -0.6514144 ,\n",
              "        -0.41803981,  0.90163913,  0.78601269, -0.70929937, -0.05307092,\n",
              "         0.95577901,  1.23743687,  1.14190596],\n",
              "       [-0.99163309,  0.69617712, -0.92274852, -0.69122439,  0.04197178,\n",
              "        -0.41803981, -0.97936664, -0.25199588, -0.70929937, -0.2209554 ,\n",
              "         0.95577901, -0.70710678,  1.14190596],\n",
              "       [-1.77586579, -1.43641607,  0.98584243,  0.36266901, -0.50149307,\n",
              "        -0.41803981,  0.90163913,  0.09400698, -0.70929937, -0.89249331,\n",
              "        -0.66169316, -0.70710678, -0.46472917],\n",
              "       [-0.31943363,  0.69617712,  0.03154696,  0.12847048, -0.85755624,\n",
              "        -0.41803981,  0.90163913,  0.35350912, -0.70929937, -0.2209554 ,\n",
              "         0.95577901,  0.26516504, -0.46472917],\n",
              "       [ 0.57683232,  0.69617712,  0.98584243,  0.47976828, -1.15739892,\n",
              "        -0.41803981, -0.97936664,  0.22375805, -0.70929937,  1.62577385,\n",
              "        -0.66169316, -0.70710678, -0.46472917],\n",
              "       [-1.10366633,  0.69617712, -0.92274852,  0.59686755,  1.16638181,\n",
              "        -0.41803981, -0.97936664, -0.12224481,  1.40984195, -0.89249331,\n",
              "        -0.66169316,  2.20970869,  1.14190596],\n",
              "       [-1.5517993 , -1.43641607,  0.03154696, -0.33992659,  1.11016131,\n",
              "        -0.41803981,  0.90163913,  0.56976091, -0.70929937, -0.89249331,\n",
              "         0.95577901, -0.70710678, -0.46472917],\n",
              "       [-0.31943363,  0.69617712,  0.98584243,  2.35335655, -0.89503658,\n",
              "         2.39211668,  0.90163913,  0.52651055, -0.70929937, -0.47278211,\n",
              "         0.95577901, -0.70710678,  1.14190596],\n",
              "       [-2.22399876,  0.69617712,  0.03154696, -0.57412513, -1.02621775,\n",
              "        -0.41803981,  0.90163913,  1.04551484, -0.70929937, -0.89249331,\n",
              "         0.95577901, -0.70710678, -0.46472917],\n",
              "       [ 0.46479907, -1.43641607, -0.92274852,  2.47045582,  0.04197178,\n",
              "        -0.41803981,  0.90163913, -0.29524624,  1.40984195, -0.89249331,\n",
              "        -0.66169316, -0.70710678, -0.46472917],\n",
              "       [ 1.69716475,  0.69617712,  0.98584243,  1.65076095,  0.41677512,\n",
              "        -0.41803981,  0.90163913, -1.63600732,  1.40984195,  1.54183161,\n",
              "        -0.66169316,  0.26516504,  1.14190596],\n",
              "       [-1.10366633,  0.69617712,  0.03154696, -0.22282732,  1.14764164,\n",
              "        -0.41803981, -0.97936664,  0.87251341, -0.70929937, -0.89249331,\n",
              "         0.95577901, -0.70710678, -0.46472917],\n",
              "       [ 0.12869935,  0.69617712, -0.92274852, -0.39847623,  0.04197178,\n",
              "         2.39211668, -0.97936664, -0.25199588,  1.40984195,  0.11481356,\n",
              "        -0.66169316,  0.26516504, -0.46472917],\n",
              "       [ 0.8008988 , -1.43641607, -0.92274852,  0.47976828,  0.39803495,\n",
              "        -0.41803981, -0.97936664,  0.44000983, -0.70929937,  2.12942728,\n",
              "        -2.27916533,  1.23743687, -0.46472917],\n",
              "       [ 0.24073259,  0.69617712, -0.92274852,  0.47976828, -1.02621775,\n",
              "        -0.41803981,  0.90163913, -0.07899445, -0.70929937, -0.55672435,\n",
              "        -0.66169316, -0.70710678, -2.0713643 ],\n",
              "       [ 0.24073259, -1.43641607, -0.92274852, -0.22282732,  1.0539408 ,\n",
              "        -0.41803981, -0.97936664,  0.39675948, -0.70929937, -0.89249331,\n",
              "         0.95577901,  0.26516504, -0.46472917],\n",
              "       [-0.31943363,  0.69617712,  0.98584243,  0.36266901, -0.44527257,\n",
              "        -0.41803981,  0.90163913,  0.82926305, -0.70929937, -0.89249331,\n",
              "         0.95577901,  3.18198052, -0.46472917],\n",
              "       [-0.87959984,  0.69617712, -0.92274852, -1.27672073,  0.52921612,\n",
              "        -0.41803981, -0.97936664, -1.37650518,  1.40984195, -0.05307092,\n",
              "        -0.66169316,  0.26516504, -0.46472917],\n",
              "       [-0.43146687,  0.69617712,  1.94013791, -0.39847623, -0.63267424,\n",
              "        -0.41803981, -0.97936664, -1.07375268,  1.40984195,  0.28269804,\n",
              "         0.95577901,  0.26516504, -0.46472917],\n",
              "       [ 1.69716475,  0.69617712,  0.03154696,  1.41656242, -0.03298889,\n",
              "        -0.41803981, -0.97936664, -0.29524624, -0.70929937, -0.89249331,\n",
              "         0.95577901, -0.70710678, -0.46472917],\n",
              "       [-1.5517993 ,  0.69617712,  0.98584243, -0.10572806, -0.61393407,\n",
              "        -0.41803981, -0.97936664,  0.78601269, -0.70929937,  0.78635147,\n",
              "        -0.66169316, -0.70710678, -0.46472917],\n",
              "       [-0.54350011,  0.69617712,  0.98584243,  0.47976828, -0.25787089,\n",
              "        -0.41803981,  0.90163913,  0.56976091, -0.70929937, -0.38883987,\n",
              "        -0.66169316,  0.26516504,  1.14190596],\n",
              "       [ 0.12869935, -1.43641607, -0.92274852,  0.12847048,  3.04039852,\n",
              "        -0.41803981, -0.97936664,  0.00750626,  1.40984195,  0.70240923,\n",
              "        -0.66169316,  1.23743687,  1.14190596],\n",
              "       [-1.21569957,  0.69617712,  0.03154696, -0.69122439,  0.30433412,\n",
              "        -0.41803981,  0.90163913,  1.00226448, -0.70929937, -0.89249331,\n",
              "         0.95577901, -0.70710678,  1.14190596],\n",
              "       [-0.31943363,  0.69617712,  0.03154696, -0.69122439,  1.46622448,\n",
              "        -0.41803981,  0.90163913,  0.95901412, -0.70929937, -0.72460883,\n",
              "         0.95577901, -0.70710678, -0.46472917],\n",
              "       [ 2.14529772, -1.43641607,  0.03154696, -0.69122439,  0.41677512,\n",
              "        -0.41803981, -0.97936664, -1.24675411,  1.40984195, -0.72460883,\n",
              "         0.95577901,  0.26516504, -0.46472917],\n",
              "       [-1.5517993 , -1.43641607,  0.98584243, -1.15962146,  0.39803495,\n",
              "        -0.41803981, -0.97936664,  0.95901412,  1.40984195, -0.89249331,\n",
              "         0.95577901, -0.70710678, -0.46472917],\n",
              "       [-1.5517993 ,  0.69617712,  0.03154696,  0.18702011, -0.82007591,\n",
              "        -0.41803981,  0.90163913, -0.77100017, -0.70929937, -0.89249331,\n",
              "        -0.66169316, -0.70710678, -2.0713643 ],\n",
              "       [-1.77586579, -1.43641607,  0.98584243, -2.21351487, -0.89503658,\n",
              "        -0.41803981,  0.90163913,  1.26176663, -0.70929937, -0.89249331,\n",
              "         0.95577901, -0.70710678, -0.46472917],\n",
              "       [-2.22399876,  0.69617712, -0.92274852, -0.69122439, -0.91377674,\n",
              "        -0.41803981,  0.90163913, -0.85750089,  1.40984195,  0.45058251,\n",
              "        -0.66169316, -0.70710678,  1.14190596],\n",
              "       [-1.21569957, -1.43641607,  0.98584243, -0.80832366, -0.08920939,\n",
              "        -0.41803981,  0.90163913, -0.0357441 , -0.70929937, -0.64066659,\n",
              "        -0.66169316,  0.26516504, -0.46472917],\n",
              "       [ 0.24073259, -1.43641607,  0.03154696, -0.10572806, -0.20165039,\n",
              "        -0.41803981, -0.97936664,  1.04551484, -0.70929937, -0.89249331,\n",
              "        -0.66169316,  0.26516504, -0.46472917],\n",
              "       [ 0.46479907,  0.69617712,  0.98584243,  1.06526461, -0.6514144 ,\n",
              "         2.39211668,  0.90163913,  0.31025876, -0.70929937,  0.45058251,\n",
              "         0.95577901, -0.70710678, -0.46472917],\n",
              "       [-0.54350011, -1.43641607,  0.03154696, -0.69122439, -0.05172906,\n",
              "        -0.41803981,  0.90163913,  0.52651055, -0.70929937,  0.03087132,\n",
              "         0.95577901, -0.70710678, -0.46472917],\n",
              "       [ 0.35276583, -1.43641607, -0.92274852, -1.86221707,  0.02323161,\n",
              "        -0.41803981, -0.97936664, -1.20350375, -0.70929937, -0.05307092,\n",
              "        -0.66169316, -0.70710678, -0.46472917]])"
            ]
          },
          "metadata": {},
          "execution_count": 100
        }
      ]
    },
    {
      "cell_type": "code",
      "source": [
        "print ('Train set:', X_train.shape,  y_train.shape)\n",
        "print ('Test set:', X_test.shape,  y_test.shape)"
      ],
      "metadata": {
        "colab": {
          "base_uri": "https://localhost:8080/"
        },
        "id": "YkQiICQfD0mE",
        "outputId": "707f4c94-aa24-4bd3-9447-b347d8879f4a"
      },
      "execution_count": 101,
      "outputs": [
        {
          "output_type": "stream",
          "name": "stdout",
          "text": [
            "Train set: (242, 13) (242,)\n",
            "Test set: (61, 13) (61,)\n"
          ]
        }
      ]
    },
    {
      "cell_type": "code",
      "source": [
        "from sklearn.neighbors import KNeighborsClassifier\n",
        "neigh = KNeighborsClassifier(n_neighbors = 4).fit(X_train,y_train)\n",
        "prediction = neigh.predict(X_test)"
      ],
      "metadata": {
        "id": "_N1V44qqD0rW"
      },
      "execution_count": 102,
      "outputs": []
    },
    {
      "cell_type": "code",
      "source": [
        "prediction1=pd.DataFrame(prediction)\n",
        "prediction1.head()"
      ],
      "metadata": {
        "colab": {
          "base_uri": "https://localhost:8080/",
          "height": 206
        },
        "id": "uxMLR5_MD0wh",
        "outputId": "3e0f70f5-dda1-4bad-92a3-cf7b59831225"
      },
      "execution_count": 103,
      "outputs": [
        {
          "output_type": "execute_result",
          "data": {
            "text/html": [
              "<div>\n",
              "<style scoped>\n",
              "    .dataframe tbody tr th:only-of-type {\n",
              "        vertical-align: middle;\n",
              "    }\n",
              "\n",
              "    .dataframe tbody tr th {\n",
              "        vertical-align: top;\n",
              "    }\n",
              "\n",
              "    .dataframe thead th {\n",
              "        text-align: right;\n",
              "    }\n",
              "</style>\n",
              "<table border=\"1\" class=\"dataframe\">\n",
              "  <thead>\n",
              "    <tr style=\"text-align: right;\">\n",
              "      <th></th>\n",
              "      <th>0</th>\n",
              "    </tr>\n",
              "  </thead>\n",
              "  <tbody>\n",
              "    <tr>\n",
              "      <th>0</th>\n",
              "      <td>0</td>\n",
              "    </tr>\n",
              "    <tr>\n",
              "      <th>1</th>\n",
              "      <td>0</td>\n",
              "    </tr>\n",
              "    <tr>\n",
              "      <th>2</th>\n",
              "      <td>0</td>\n",
              "    </tr>\n",
              "    <tr>\n",
              "      <th>3</th>\n",
              "      <td>0</td>\n",
              "    </tr>\n",
              "    <tr>\n",
              "      <th>4</th>\n",
              "      <td>0</td>\n",
              "    </tr>\n",
              "  </tbody>\n",
              "</table>\n",
              "</div>"
            ],
            "text/plain": [
              "   0\n",
              "0  0\n",
              "1  0\n",
              "2  0\n",
              "3  0\n",
              "4  0"
            ]
          },
          "metadata": {},
          "execution_count": 103
        }
      ]
    },
    {
      "cell_type": "code",
      "source": [
        "from sklearn import metrics\n",
        "metrics.accuracy_score(y_test, prediction)"
      ],
      "metadata": {
        "colab": {
          "base_uri": "https://localhost:8080/"
        },
        "id": "hHiIkovREJXC",
        "outputId": "2d0919b3-29cf-48d5-f45b-12cb259c90b1"
      },
      "execution_count": 104,
      "outputs": [
        {
          "output_type": "execute_result",
          "data": {
            "text/plain": [
              "0.8524590163934426"
            ]
          },
          "metadata": {},
          "execution_count": 104
        }
      ]
    },
    {
      "cell_type": "code",
      "source": [
        "from sklearn.svm import SVC\n",
        "classifier=SVC(kernel='rbf',random_state=0)\n",
        "classifier.fit(X_train,y_train)"
      ],
      "metadata": {
        "colab": {
          "base_uri": "https://localhost:8080/"
        },
        "id": "4O3cF4QaEfsV",
        "outputId": "bc8fea3b-a29d-4608-bec9-02ab5ad72c4e"
      },
      "execution_count": 105,
      "outputs": [
        {
          "output_type": "execute_result",
          "data": {
            "text/plain": [
              "SVC(random_state=0)"
            ]
          },
          "metadata": {},
          "execution_count": 105
        }
      ]
    },
    {
      "cell_type": "code",
      "source": [
        "y_pred=classifier.predict(X_test)\n",
        "prediction2=pd.DataFrame(y_pred)\n",
        "prediction2.head()"
      ],
      "metadata": {
        "colab": {
          "base_uri": "https://localhost:8080/",
          "height": 206
        },
        "id": "rng6FomDElXF",
        "outputId": "55dac398-1d98-4da5-c726-4bcf1f9703ae"
      },
      "execution_count": 106,
      "outputs": [
        {
          "output_type": "execute_result",
          "data": {
            "text/html": [
              "<div>\n",
              "<style scoped>\n",
              "    .dataframe tbody tr th:only-of-type {\n",
              "        vertical-align: middle;\n",
              "    }\n",
              "\n",
              "    .dataframe tbody tr th {\n",
              "        vertical-align: top;\n",
              "    }\n",
              "\n",
              "    .dataframe thead th {\n",
              "        text-align: right;\n",
              "    }\n",
              "</style>\n",
              "<table border=\"1\" class=\"dataframe\">\n",
              "  <thead>\n",
              "    <tr style=\"text-align: right;\">\n",
              "      <th></th>\n",
              "      <th>0</th>\n",
              "    </tr>\n",
              "  </thead>\n",
              "  <tbody>\n",
              "    <tr>\n",
              "      <th>0</th>\n",
              "      <td>0</td>\n",
              "    </tr>\n",
              "    <tr>\n",
              "      <th>1</th>\n",
              "      <td>1</td>\n",
              "    </tr>\n",
              "    <tr>\n",
              "      <th>2</th>\n",
              "      <td>1</td>\n",
              "    </tr>\n",
              "    <tr>\n",
              "      <th>3</th>\n",
              "      <td>0</td>\n",
              "    </tr>\n",
              "    <tr>\n",
              "      <th>4</th>\n",
              "      <td>0</td>\n",
              "    </tr>\n",
              "  </tbody>\n",
              "</table>\n",
              "</div>"
            ],
            "text/plain": [
              "   0\n",
              "0  0\n",
              "1  1\n",
              "2  1\n",
              "3  0\n",
              "4  0"
            ]
          },
          "metadata": {},
          "execution_count": 106
        }
      ]
    },
    {
      "cell_type": "code",
      "source": [
        "metrics.accuracy_score(y_test, prediction2)"
      ],
      "metadata": {
        "colab": {
          "base_uri": "https://localhost:8080/"
        },
        "id": "XLv2lnPlEpSy",
        "outputId": "890cf8dc-b466-4e2c-81b4-3d11663333f5"
      },
      "execution_count": 107,
      "outputs": [
        {
          "output_type": "execute_result",
          "data": {
            "text/plain": [
              "0.8688524590163934"
            ]
          },
          "metadata": {},
          "execution_count": 107
        }
      ]
    },
    {
      "cell_type": "code",
      "source": [
        "from sklearn.metrics import confusion_matrix\n",
        "confusion_matrix(y_test,prediction1)"
      ],
      "metadata": {
        "colab": {
          "base_uri": "https://localhost:8080/"
        },
        "id": "nPNtsonME0SP",
        "outputId": "ab7cce0d-b317-4710-a600-42d340bf1c73"
      },
      "execution_count": 108,
      "outputs": [
        {
          "output_type": "execute_result",
          "data": {
            "text/plain": [
              "array([[23,  4],\n",
              "       [ 5, 29]])"
            ]
          },
          "metadata": {},
          "execution_count": 108
        }
      ]
    },
    {
      "cell_type": "code",
      "source": [
        "confusion_matrix(y_test,prediction2)"
      ],
      "metadata": {
        "colab": {
          "base_uri": "https://localhost:8080/"
        },
        "id": "mGk6dd0kE5tP",
        "outputId": "78260ab5-be4d-457f-c61f-9ee90daeea6a"
      },
      "execution_count": 109,
      "outputs": [
        {
          "output_type": "execute_result",
          "data": {
            "text/plain": [
              "array([[21,  6],\n",
              "       [ 2, 32]])"
            ]
          },
          "metadata": {},
          "execution_count": 109
        }
      ]
    },
    {
      "cell_type": "code",
      "source": [
        "from sklearn.tree import DecisionTreeClassifier\n",
        "HeartTree = DecisionTreeClassifier(criterion=\"entropy\", max_depth = 4)\n",
        "HeartTree.fit(X_train,y_train)"
      ],
      "metadata": {
        "colab": {
          "base_uri": "https://localhost:8080/"
        },
        "id": "q409sor_E8Dt",
        "outputId": "bd7221d5-c508-477f-a909-9f83646d902f"
      },
      "execution_count": 110,
      "outputs": [
        {
          "output_type": "execute_result",
          "data": {
            "text/plain": [
              "DecisionTreeClassifier(criterion='entropy', max_depth=4)"
            ]
          },
          "metadata": {},
          "execution_count": 110
        }
      ]
    },
    {
      "cell_type": "code",
      "source": [
        "y_pred = HeartTree.predict(X_test)\n",
        "prediction3=pd.DataFrame(y_pred)\n",
        "prediction3.head()"
      ],
      "metadata": {
        "colab": {
          "base_uri": "https://localhost:8080/",
          "height": 206
        },
        "id": "VBHWSSyOFGBK",
        "outputId": "7a34eed0-709d-415b-aae0-adeb4dd552c6"
      },
      "execution_count": 111,
      "outputs": [
        {
          "output_type": "execute_result",
          "data": {
            "text/html": [
              "<div>\n",
              "<style scoped>\n",
              "    .dataframe tbody tr th:only-of-type {\n",
              "        vertical-align: middle;\n",
              "    }\n",
              "\n",
              "    .dataframe tbody tr th {\n",
              "        vertical-align: top;\n",
              "    }\n",
              "\n",
              "    .dataframe thead th {\n",
              "        text-align: right;\n",
              "    }\n",
              "</style>\n",
              "<table border=\"1\" class=\"dataframe\">\n",
              "  <thead>\n",
              "    <tr style=\"text-align: right;\">\n",
              "      <th></th>\n",
              "      <th>0</th>\n",
              "    </tr>\n",
              "  </thead>\n",
              "  <tbody>\n",
              "    <tr>\n",
              "      <th>0</th>\n",
              "      <td>0</td>\n",
              "    </tr>\n",
              "    <tr>\n",
              "      <th>1</th>\n",
              "      <td>0</td>\n",
              "    </tr>\n",
              "    <tr>\n",
              "      <th>2</th>\n",
              "      <td>0</td>\n",
              "    </tr>\n",
              "    <tr>\n",
              "      <th>3</th>\n",
              "      <td>0</td>\n",
              "    </tr>\n",
              "    <tr>\n",
              "      <th>4</th>\n",
              "      <td>0</td>\n",
              "    </tr>\n",
              "  </tbody>\n",
              "</table>\n",
              "</div>"
            ],
            "text/plain": [
              "   0\n",
              "0  0\n",
              "1  0\n",
              "2  0\n",
              "3  0\n",
              "4  0"
            ]
          },
          "metadata": {},
          "execution_count": 111
        }
      ]
    },
    {
      "cell_type": "code",
      "source": [
        "metrics.accuracy_score(y_test,prediction3)"
      ],
      "metadata": {
        "colab": {
          "base_uri": "https://localhost:8080/"
        },
        "id": "d-8_zDSVFKQD",
        "outputId": "306aa08b-8b2b-4be5-b315-072a3990804a"
      },
      "execution_count": 112,
      "outputs": [
        {
          "output_type": "execute_result",
          "data": {
            "text/plain": [
              "0.7540983606557377"
            ]
          },
          "metadata": {},
          "execution_count": 112
        }
      ]
    },
    {
      "cell_type": "code",
      "source": [
        "confusion_matrix(y_test,prediction3)"
      ],
      "metadata": {
        "colab": {
          "base_uri": "https://localhost:8080/"
        },
        "id": "otvgX5N9FRYD",
        "outputId": "a81c4bb5-16ba-4d5d-f026-6f31569aca34"
      },
      "execution_count": 113,
      "outputs": [
        {
          "output_type": "execute_result",
          "data": {
            "text/plain": [
              "array([[22,  5],\n",
              "       [10, 24]])"
            ]
          },
          "metadata": {},
          "execution_count": 113
        }
      ]
    }
  ]
}